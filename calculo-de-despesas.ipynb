{
 "cells": [
  {
   "cell_type": "code",
   "execution_count": 11,
   "metadata": {},
   "outputs": [
    {
     "name": "stdout",
     "output_type": "stream",
     "text": [
      "Primeiro salário: 57 % Segundo salário: 42 %\n",
      "Primeira pessoa paga R$ 1142.86\n",
      "Segunda pessoa paga R$ 857.14\n",
      "None\n"
     ]
    }
   ],
   "source": [
    "# Algoritmo inicial\n",
    "\n",
    "primeiro_salario = float(input('Digite o valor do primeiro salario: '))\n",
    "segundo_salario = float(input('Digite o valor do segundo salario: '))\n",
    "despesas_comuns = float(input('Digite o valor da despesa mensal total: '))\n",
    "\n",
    "def porcentagem_salarios(p1,p2):\n",
    "    porcentagem_total = primeiro_salario + segundo_salario\n",
    "    p1 = (primeiro_salario / porcentagem_total) * 100\n",
    "    p2 = (segundo_salario / porcentagem_total) * 100\n",
    "    print(\"Primeiro salário:\", int(p1) ,\"%\", \"Segundo salário:\",int(p2), \"%\")\n",
    "    valor1 = despesas_comuns * (p1/100)\n",
    "    valor2 = despesas_comuns * (p2/100)\n",
    "    resultado = f\"Primeira pessoa paga R$ {round(valor1, 2)}\\nSegunda pessoa paga R$ {round(valor2, 2)}\"\n",
    "    print(resultado)\n",
    "\n",
    "    \n",
    "print(porcentagem_salarios(primeiro_salario,segundo_salario))\n"
   ]
  },
  {
   "cell_type": "code",
   "execution_count": 3,
   "metadata": {},
   "outputs": [],
   "source": [
    "# Algoritmo com implementação do Twinker p/ GUI\n",
    "\n",
    "import tkinter as tk\n",
    "\n",
    "def porcentagem_salarios(p1, p2):\n",
    "    porcentagem_total = p1 + p2\n",
    "    p1 = (p1 / porcentagem_total) * 100\n",
    "    p2 = (p2 / porcentagem_total) * 100\n",
    "    valor1 = despesas_comuns * (p1/100)\n",
    "    valor2 = despesas_comuns * (p2/100)\n",
    "    result = f\"Primeiro salário: {int(p1)}%, Segundo salário: {int(p2)}%\\n\"\n",
    "    result += f\"Primeira pessoa paga R$ {round(valor1, 2)}\\nSegunda pessoa paga R$ {round(valor2, 2)}\"\n",
    "    return result\n",
    "\n",
    "root = tk.Tk()\n",
    "root.title(\"Porcentagem de Salários\")\n",
    "\n",
    "frame_input = tk.Frame(root)\n",
    "frame_input.pack()\n",
    "\n",
    "lbl_primeiro_salario = tk.Label(frame_input, text=\"Primeiro salário:\")\n",
    "lbl_primeiro_salario.pack(side=\"left\")\n",
    "\n",
    "entry_primeiro_salario = tk.Entry(frame_input)\n",
    "entry_primeiro_salario.pack(side=\"left\")\n",
    "\n",
    "lbl_segundo_salario = tk.Label(frame_input, text=\"Segundo salário:\")\n",
    "lbl_segundo_salario.pack(side=\"left\")\n",
    "\n",
    "entry_segundo_salario = tk.Entry(frame_input)\n",
    "entry_segundo_salario.pack(side=\"left\")\n",
    "\n",
    "lbl_despesas_comuns = tk.Label(frame_input, text=\"Despesas comuns:\")\n",
    "lbl_despesas_comuns.pack(side=\"left\")\n",
    "\n",
    "entry_despesas_comuns = tk.Entry(frame_input)\n",
    "entry_despesas_comuns.pack(side=\"left\")\n",
    "\n",
    "frame_output = tk.Frame(root)\n",
    "frame_output.pack()\n",
    "\n",
    "lbl_result = tk.Label(frame_output)\n",
    "lbl_result.pack()\n",
    "\n",
    "def on_calculate():\n",
    "    global despesas_comuns\n",
    "    despesas_comuns = float(entry_despesas_comuns.get())\n",
    "    p1 = float(entry_primeiro_salario.get())\n",
    "    p2 = float(entry_segundo_salario.get())\n",
    "    result = porcentagem_salarios(p1, p2)\n",
    "    lbl_result[\"text\"] = result\n",
    "\n",
    "btn_calculate = tk.Button(root, text=\"Calcular\", command=on_calculate)\n",
    "btn_calculate.pack()\n",
    "\n",
    "root.mainloop()\n"
   ]
  }
 ],
 "metadata": {
  "kernelspec": {
   "display_name": "Python 3",
   "language": "python",
   "name": "python3"
  },
  "language_info": {
   "codemirror_mode": {
    "name": "ipython",
    "version": 3
   },
   "file_extension": ".py",
   "mimetype": "text/x-python",
   "name": "python",
   "nbconvert_exporter": "python",
   "pygments_lexer": "ipython3",
   "version": "3.11.1"
  },
  "vscode": {
   "interpreter": {
    "hash": "f24c9f2306dfc1a8d1fba59862043cab8972e8fcf845ef6a53b51d0e5510e02f"
   }
  }
 },
 "nbformat": 4,
 "nbformat_minor": 1
}
